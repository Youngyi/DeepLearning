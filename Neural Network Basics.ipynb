{
 "cells": [
  {
   "cell_type": "markdown",
   "metadata": {},
   "source": [
    "# 神经网络基础"
   ]
  },
  {
   "cell_type": "markdown",
   "metadata": {
    "collapsed": true
   },
   "source": [
    "## 0. 深度学习的标记法\n",
    "\n",
    "### 0.1 神经网络的标记法\n",
    "\n",
    "**一般标记 General comments**：\n",
    "\n",
    "- 上标 $(i)$ 表示第 $i$ 个训练样本；上标 $[l]$ 表示第 $l$ 层。\n",
    "\n",
    "**大小 Sizes**:\n",
    "\n",
    "- $m$: 数据集中的样本数量\n",
    "\n",
    "- $n_x$: 输入大小（特征数）\n",
    "\n",
    "- $n_y$: 输出大小（分类的数量）\n",
    "\n",
    "- $n_h^{[l]}$: 第 $l$ 层的隐藏神经元数量\n",
    "\n",
    "- $L$: 神经网络的总层数\n",
    "\n",
    "这样，在for循环中，可以定义 $n_x = n_h^{[0]}, n_y = n_h^{[L+1]}$\n",
    "\n",
    "**对象 Objects**\n",
    "\n",
    "- $X \\in \\mathbb{R}^{n_x \\times m}$ 是输入矩阵\n",
    "\n",
    "- $x^{(i)} \\in \\mathbb{R}^{n_x}$ 是第 $i$ 个样本，表示为一个 $n_x$ 维的列向量\n",
    "\n",
    "- $Y \\in \\mathbb{R}^{n_y \\times m}$ 是标签矩阵\n",
    "\n",
    "- $y^{(i)} \\in \\mathbb{R}^{n_y}$ 是第 $i$ 个样本对应的标签，表示为一个 $n_y$ 维的列向量\n",
    "\n",
    "- $W^{[l]} \\in \\mathbb{R}^{下一层的神经元数量 \\times 上一层的神经元数量}$ 是权重矩阵，上标 $[l]$ 表示所在层\n",
    "\n",
    "- $b^{[l]} \\in \\mathbb{R}^{下一层的神经元数量}$ 是第 $l$ 层的截距向量\n",
    "\n",
    "- $\\hat{y} \\in \\mathbb{R}^{n_y}$ 是预测结果向量，也可以表示为 $a^{[L]}$\n",
    "\n",
    "**常见的前向传播公式**\n",
    "\n",
    "- $ a = g^{[l]}(W_xx^{(i)} + b_1) = g^{[l]}(z_1)$, $g^{[l]}$表示第l层的激活函数\n",
    "- $ \\hat{y}^{(i)} = softmax(W_hh + b_2) $\n",
    "- 一般的激活公式: $a_j^{[l]} = g^{[l]}(\\sum_k w_{jk}^{[l]}a_k^{[l-1]} + b_j^{[l]}) = g^{[l]}(z_j^{[l]}) $\n",
    "- $J(x,W,b,y)$ 或 $J(\\hat{y}, y)$ 表示成本函数\n",
    "\n",
    "**成本函数的例子**\n",
    "\n",
    "- $J_{CE}(\\hat{y}, y) = -\\sum_{i=0}^m y^{(i)}log\\hat{y}^{(i)}$\n",
    "- $J_1(\\hat{y}, y) = \\sum_{i=0}^m |y^{(i)} - \\hat{y}^{(i)}|$\n",
    "\n",
    "\n",
    "### 0.2 深度学习的标记法\n",
    "\n",
    "对于使用图结构来表示的神经网络\n",
    "\n",
    "- 节点表示输入、激活单元或输出\n",
    "- 变表示权重或截距\n",
    "\n",
    "![examples of Standard deep learning representations](img/examples of Standard deep learning representations.png)"
   ]
  },
  {
   "cell_type": "code",
   "execution_count": null,
   "metadata": {
    "collapsed": true
   },
   "outputs": [],
   "source": []
  }
 ],
 "metadata": {
  "anaconda-cloud": {},
  "kernelspec": {
   "display_name": "Python [conda root]",
   "language": "python",
   "name": "conda-root-py"
  },
  "language_info": {
   "codemirror_mode": {
    "name": "ipython",
    "version": 3
   },
   "file_extension": ".py",
   "mimetype": "text/x-python",
   "name": "python",
   "nbconvert_exporter": "python",
   "pygments_lexer": "ipython3",
   "version": "3.5.2"
  }
 },
 "nbformat": 4,
 "nbformat_minor": 1
}
