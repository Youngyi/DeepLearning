{
 "cells": [
  {
   "cell_type": "markdown",
   "metadata": {},
   "source": [
    "# 神经网络基础"
   ]
  },
  {
   "cell_type": "markdown",
   "metadata": {
    "collapsed": true
   },
   "source": [
    "## 0. 深度学习的标记法\n",
    "\n",
    "### 0.1 神经网络的标记法\n",
    "\n",
    "**一般标记 General comments**：\n",
    "\n",
    "- 上标 $(i)$ 表示第 $i$ 个训练样本；上标 $[l]$ 表示第 $l$ 层。\n",
    "\n",
    "**大小 Sizes**:\n",
    "\n",
    "- $m$: 数据集中的样本数量\n",
    "\n",
    "- $n_x$: 输入大小（特征数）\n",
    "\n",
    "- $n_y$: 输出大小（分类的数量）\n",
    "\n",
    "- $n_h^{[l]}$: 第 $l$ 层的隐藏神经元数量\n",
    "\n",
    "- $L$: 神经网络的总层数\n",
    "\n",
    "这样，在for循环中，可以定义 $n_x = n_h^{[0]}, n_y = n_h^{[L+1]}$\n",
    "\n",
    "**对象 Objects**\n",
    "\n",
    "- $X \\in \\mathbb{R}^{n_x \\times m}$ 是输入矩阵\n",
    "\n",
    "- $x^{(i)} \\in \\mathbb{R}^{n_x}$ 是第 $i$ 个样本，表示为一个 $n_x$ 维的列向量\n",
    "\n",
    "- $Y \\in \\mathbb{R}^{n_y \\times m}$ 是标签矩阵\n",
    "\n",
    "- $y^{(i)} \\in \\mathbb{R}^{n_y}$ 是第 $i$ 个样本对应的标签，表示为一个 $n_y$ 维的列向量\n",
    "\n",
    "- $W^{[l]} \\in \\mathbb{R}^{下一层的神经元数量 \\times 上一层的神经元数量}$ 是权重矩阵，上标 $[l]$ 表示所在层\n",
    "\n",
    "- $b^{[l]} \\in \\mathbb{R}^{下一层的神经元数量}$ 是第 $l$ 层的截距向量\n",
    "\n",
    "- $\\hat{y} \\in \\mathbb{R}^{n_y}$ 是预测结果向量，也可以表示为 $a^{[L]}$\n",
    "\n",
    "**常见的前向传播公式**\n",
    "\n",
    "- $ a = g^{[l]}(W_xx^{(i)} + b_1) = g^{[l]}(z_1)$, $g^{[l]}$表示第l层的激活函数\n",
    "- $ \\hat{y}^{(i)} = softmax(W_hh + b_2) $\n",
    "- 一般的激活公式: $a_j^{[l]} = g^{[l]}(\\sum_k w_{jk}^{[l]}a_k^{[l-1]} + b_j^{[l]}) = g^{[l]}(z_j^{[l]}) $\n",
    "- $J(x,W,b,y)$ 或 $J(\\hat{y}, y)$ 表示成本函数\n",
    "\n",
    "**成本函数的例子**\n",
    "\n",
    "- $J_{CE}(\\hat{y}, y) = -\\sum_{i=0}^m y^{(i)}log\\hat{y}^{(i)}$\n",
    "- $J_1(\\hat{y}, y) = \\sum_{i=0}^m |y^{(i)} - \\hat{y}^{(i)}|$\n",
    "\n",
    "\n",
    "### 0.2 深度学习的标记法\n",
    "\n",
    "对于使用图结构来表示的神经网络\n",
    "\n",
    "- 节点表示输入、激活单元或输出\n",
    "- 变表示权重或截距\n",
    "\n",
    "![examples of Standard deep learning representations](img/examples of Standard deep learning representations.png)\n",
    "\n",
    "### 0.3 特别注意！\n",
    "\n",
    "为了计算的便利，神经网络和传统机器学习在表示层面上，有这样两个显著的不同：\n",
    "\n",
    "- 相对于传统机器学习，神经网络的输入矩阵 $X$ 是转置过的 $n \\times m$ 矩阵，其中每一列是一个样本，每一行是一个特征。传统机器学习习惯上 $X$ 是一个 $m \\times n$ 矩阵，其中每一行是一个样本，每一列是一个特征。相应的，标签矩阵 $y$ 也经过了转置。\n",
    "\n",
    "- 在传统机器学习中，每个样本作为输入向量通常会加入一个 $x_0=1$ 的变量，使得输入矩阵成为 $m \\times (n+1)$ 的矩阵，从而输入向量和权重相乘的计算可以写作 $\\hat{y} = \\theta^Tx$。神经网络中通常将截距项和权重项分开，等同于 $b=\\theta_0$ 而 $w = [\\theta_1;\\theta_2;...;\\theta_n]$。"
   ]
  },
  {
   "cell_type": "markdown",
   "metadata": {
    "collapsed": true
   },
   "source": [
    "## 1. 二分类\n",
    "\n",
    "在二分类问题中，输出结果是离散型的二值。\n",
    "\n",
    "例子：判定图片里是否包含猫\n",
    "\n",
    "这里的目标是训练一个分类器，将图像作为输入并表示为特征向量 $x$，预测对应的标签 $y$ 是1还是0。在这里0、1的含义是这张图片包含猫（1）或不包含猫（0）。\n",
    "\n",
    "![image to feature vector](img/image to feature vector.png)\n",
    "\n",
    "在计算机中图像通常被存储成三个独立的矩阵，分别对应着图像的红、绿、蓝三个通道。三个矩阵和图片的像素大小相同，比如上面这张图片为64像素X64像素，相应地，三个矩阵（RGB）也都是 $64 \\times 64$。\n",
    "\n",
    "矩阵中的值表示着像素中对应通道颜色的强度，三个矩阵中的所有值一起构成了 $n$ 维的特征向量。在模式识别和机器学习中，特征向量表示一个对象，在这个例子中，表示图片包含猫或不包含猫。\n",
    "\n",
    "要创建这个特征向量 $x$，所有的像素颜色强度将被重新整合。特征向量 $x$ 的维度为 $n_x = 64 \\times 64 \\times 3 = 12288$。\n",
    "\n",
    "![feature vector](img/feature vector.png)"
   ]
  },
  {
   "cell_type": "markdown",
   "metadata": {},
   "source": [
    "## 2. 逻辑回归\n",
    "\n",
    "逻辑回归是一种解决监督学习中二分类问题的学习算法。逻辑学习的目标是最小化预测值和训练数据标签值之间的误差。\n",
    "\n",
    "依然是训练识别猫的图片的分类器为例，给定一个特征向量 $x$，逻辑回归算法将能够给出图片中包含猫的概率\n",
    "\n",
    "$$\\hat{y} = P(y=1|x), 其中0 \\leq \\hat{y} \\leq 1$$\n",
    "\n",
    "逻辑回归中包含以下参数：\n",
    "\n",
    "- 输入特征向量：$x \\in \\mathbb{R}^{n_x}$，其中 $n_x$ 是特征数\n",
    "- 训练标签：$y \\in \\{0, 1\\}$\n",
    "- 权重：$w \\in \\mathbb{R}^{n_x}$，其中 $n_x$ 是特征数\n",
    "- 阈值：$b \\in \\mathbb{R}$\n",
    "- 输出：$\\hat{y} = \\sigma(w^Tx+b)$\n",
    "- Sigmoid函数：$s = \\sigma(w^Tx+b) = \\sigma(z) = \\frac{1}{1+e^{-z}}$\n",
    "\n",
    "![sigmoid function](img/sigmoid function.png)\n",
    "\n",
    "$(w^Tx+b)$ 是一个线性函数，由于这里我们需要一个概率表示，输出值需要在 $[0,1]$ 区间内，因此使用了Sigmoid函数。Sigmoid函数的值域为 $[0,1]$，如上图所示。\n",
    "\n",
    "观察Sigmoid函数的图像，可以看到如下一些性质：\n",
    "\n",
    "- 如果 $z$ 是一个非常大的正数，那么 $\\sigma(z)=1$\n",
    "- 如果 $z$ 非常小，或者说是一个非常大的负数，那么 $\\sigma(z)=0$\n",
    "- 如果 $z=0$，那么 $\\sigma(z) = 0.5$"
   ]
  },
  {
   "cell_type": "markdown",
   "metadata": {},
   "source": [
    "## 3. 逻辑回归的成本函数\n",
    "\n",
    "训练模型获得参数 $w$ 和 $b$，需要首先定义**成本函数 cost function**\n",
    "\n",
    "**损失函数 Loss function**:\n",
    "\n",
    "损失函数衡量着预测值($\\hat{y}^{(i)}$)和期望输出值($y^{(i)}$)之间的差异。换言之，损失函数计算单个训练样本的误差值。\n",
    "\n",
    "$$ L(\\hat{y}^{(i)}, y^{(i)}) = \\frac{1}{2}(\\hat{y}^{(i)} - y^{(i)})^2 $$\n",
    "$$ L(\\hat{y}^{(i)}, y^{(i)}) = -(y^{(i)}log(\\hat{y}^{(i)}) + (1-y^{(i)})log(1-\\hat{y}^{(i)}))$$\n",
    "\n",
    "其中，第一个平方误差的损失函数，会造成非凸的优化目标，逻辑回归通常使用第二个Logloss作为损失函数。\n",
    "\n",
    "**成本函数 Cost function**:\n",
    "\n",
    "成本函数是整个训练集中每个训练样本的损失函数值的均值。最终找到的参数 $w$ 和 $b$ 应该使全局的成本函数取得最小值。\n",
    "\n",
    "$$ J(w, b) = \\frac{1}{m}\\sum_{i=1}^m L(\\hat{y}^{(i)}, y^{(i)}) = -\\frac{1}{m}\\sum_{i=1}^m[y^{(i)}log(\\hat{y}^{(i)}) + (1-y^{(i)})log(1-\\hat{y}^{(i)})] $$"
   ]
  },
  {
   "cell_type": "markdown",
   "metadata": {
    "collapsed": true
   },
   "source": [
    "## 4. 导数、偏导、链式求导法则\n",
    "\n",
    "复习一元函数导数、多元函数偏导、链式求导法则，不赘述。"
   ]
  },
  {
   "cell_type": "markdown",
   "metadata": {},
   "source": [
    "## 5. 梯度下降\n",
    "\n",
    "求成本函数的偏导，根据偏导和学习速率进行梯度更新。较为基础，不赘述。"
   ]
  },
  {
   "cell_type": "markdown",
   "metadata": {
    "collapsed": true
   },
   "source": [
    "## 6. 向量化\n",
    "\n",
    "在用numpy写深度学习算法时，应当尽可能地避免使用for循环。numpy自带了很多方便的向量化操作，使用这些操作会比显式的for循环快得多。numpy底层的C或Fortran代码，会利用CPU的SIMD并行指令，在CPU层面实现单指令多数据流，从而更好地利用CPU的并行能力。同样的技巧也适用于GPU，事实上GPU对于处理这样SIMD指令的能力比CPU还强。"
   ]
  },
  {
   "cell_type": "markdown",
   "metadata": {
    "collapsed": true
   },
   "source": [
    "## 7. Show Me The Code\n",
    "\n",
    "在这里，我们将构建一个逻辑回归分类器，用来识别包含猫的图片。\n",
    "\n",
    "**要求：**\n",
    "- 除非明确指出，在代码中不使用循环\n",
    "\n",
    "**通过这个编程练习，可以学到：**\n",
    "- 构建学习算法的基本架构，包括:\n",
    "    - 初始化参数\n",
    "    - 计算成本函数及其梯度\n",
    "    - 使用优化算法（梯度下降）\n",
    "- 将上述三个函数组合为模型函数"
   ]
  },
  {
   "cell_type": "markdown",
   "metadata": {},
   "source": [
    "### 7.1 三方包\n",
    "\n",
    "首先，运行下面的代码块，来引入在这个编程练习中所需要的包。 \n",
    "- [numpy](www.numpy.org) 是Python生态圈中进行科学计算的基础包。\n",
    "- [h5py](http://www.h5py.org) 是和存储为H5文件的数据集进行交互的通用包。\n",
    "- [matplotlib](http://matplotlib.org) 是Python生态圈中著名的绘图包。\n",
    "- [PIL](http://www.pythonware.com/products/pil/) 和 [scipy](https://www.scipy.org/) 用来使用图片对模型进行测试。"
   ]
  },
  {
   "cell_type": "code",
   "execution_count": 1,
   "metadata": {
    "collapsed": true
   },
   "outputs": [],
   "source": [
    "import numpy as np\n",
    "import matplotlib.pyplot as plt\n",
    "import h5py\n",
    "import scipy\n",
    "from PIL import Image\n",
    "from scipy import ndimage\n",
    "from lr_utils import load_dataset\n",
    "\n",
    "%matplotlib inline"
   ]
  },
  {
   "cell_type": "markdown",
   "metadata": {},
   "source": [
    "### 7.2 问题总览\n",
    "\n",
    "**问题表述**: 给定一个数据集（\"data.h5\"），包括：\n",
    "    - 包含 m_train 张图片的训练集，标记为猫（y=1）或非猫（y=0）\n",
    "    - 包含 m_test 张图片的测试集，标记为猫或非猫\n",
    "    - 每张图片表示为 （num_px, num_px, 3）的矩阵，其中3表示RGB三通道。因而，每张图片都是正方形的（长=num_px，宽=num_px）\n",
    "\n",
    "我们会构建一个简单的图像识别算法，这个算法希望能够准确地分类猫和非猫。\n",
    "\n",
    "用下面的代码可以导入数据集。"
   ]
  },
  {
   "cell_type": "code",
   "execution_count": 2,
   "metadata": {
    "collapsed": true
   },
   "outputs": [],
   "source": [
    "# Loading the data (cat/non-cat)\n",
    "train_set_x_orig, train_set_y, test_set_x_orig, test_set_y, classes = load_dataset()"
   ]
  },
  {
   "cell_type": "markdown",
   "metadata": {},
   "source": [
    "这里我们对图像数据（包括训练和测试）加了后缀_orig，因为接下来我们会对这些数据进行预处理。预处理后会得到train_set_x和test_set_x。（train_set_y和test_set_y）不需要预处理。\n",
    "\n",
    "train_set_x_orig和test_set_x_orig中的每一行代表了一张图片的数组表示。我们可以通过下面的代码进行可视化，改变`index`的值并重新执行，还可以看到其它的图片。"
   ]
  },
  {
   "cell_type": "code",
   "execution_count": 3,
   "metadata": {
    "collapsed": false
   },
   "outputs": [
    {
     "name": "stdout",
     "output_type": "stream",
     "text": [
      "y = [1], it's a 'cat' picture.\n"
     ]
    },
    {
     "data": {
      "image/png": "[encoded data removed]",
      "text/plain": [
       "<matplotlib.figure.Figure at 0x7f9b9f5080b8>"
      ]
     },
     "metadata": {},
     "output_type": "display_data"
    }
   ],
   "source": [
    "# Example of a picture\n",
    "index = 25\n",
    "plt.imshow(train_set_x_orig[index])\n",
    "print (\"y = \" + str(train_set_y[:, index]) + \", it's a '\" + classes[np.squeeze(train_set_y[:, index])].decode(\"utf-8\") +  \"' picture.\")"
   ]
  },
  {
   "cell_type": "markdown",
   "metadata": {},
   "source": [
    "许多深度学习软件的bug都来自于矩阵或向量的维度不匹配。如果我们始终对矩阵或向量的维度有准确把握，开发的过程中可以消除很多bug。\n",
    "\n",
    "**练习** 获得以下值:\n",
    "    - m_train (训练集样本数)\n",
    "    - m_test (测试集样本数)\n",
    "    - num_px (训练图片的长和宽)\n",
    "注意，`train_set_x_orig`是一个numpy数组，它的形状是 (m_train, num_px, num_px, 3)。比如，可以通过`train_set_x_orig.shape[0]`来获取`m_train`。"
   ]
  },
  {
   "cell_type": "code",
   "execution_count": 4,
   "metadata": {
    "collapsed": false
   },
   "outputs": [
    {
     "name": "stdout",
     "output_type": "stream",
     "text": [
      "Number of training examples: m_train = 209\n",
      "Number of testing examples: m_test = 50\n",
      "Height/Width of each image: num_px = 64\n",
      "Each image is of size: (64, 64, 3)\n",
      "train_set_x shape: (209, 64, 64, 3)\n",
      "train_set_y shape: (1, 209)\n",
      "test_set_x shape: (50, 64, 64, 3)\n",
      "test_set_y shape: (1, 50)\n"
     ]
    }
   ],
   "source": [
    "### START CODE HERE ### (≈ 3 lines of code)\n",
    "m_train = train_set_x_orig.shape[0]\n",
    "m_test = test_set_x_orig.shape[0]\n",
    "num_px = train_set_x_orig.shape[1]\n",
    "### END CODE HERE ###\n",
    "\n",
    "print (\"Number of training examples: m_train = \" + str(m_train))\n",
    "print (\"Number of testing examples: m_test = \" + str(m_test))\n",
    "print (\"Height/Width of each image: num_px = \" + str(num_px))\n",
    "print (\"Each image is of size: (\" + str(num_px) + \", \" + str(num_px) + \", 3)\")\n",
    "print (\"train_set_x shape: \" + str(train_set_x_orig.shape))\n",
    "print (\"train_set_y shape: \" + str(train_set_y.shape))\n",
    "print (\"test_set_x shape: \" + str(test_set_x_orig.shape))\n",
    "print (\"test_set_y shape: \" + str(test_set_y.shape))"
   ]
  },
  {
   "cell_type": "markdown",
   "metadata": {},
   "source": [
    "**上面这段代码关于m_train, m_test 和 num_px的预期执行结果为**: \n",
    "<table style=\"width:15%\">\n",
    "  <tr>\n",
    "    <td>**m_train**</td>\n",
    "    <td> 209 </td> \n",
    "  </tr>\n",
    "  \n",
    "  <tr>\n",
    "    <td>**m_test**</td>\n",
    "    <td> 50 </td> \n",
    "  </tr>\n",
    "  \n",
    "  <tr>\n",
    "    <td>**num_px**</td>\n",
    "    <td> 64 </td> \n",
    "  </tr>\n",
    "  \n",
    "</table>"
   ]
  },
  {
   "cell_type": "markdown",
   "metadata": {
    "collapsed": true
   },
   "source": [
    "为了运算方便，这里需要将 (num_px, num_px, 3) 形状的图片转换为 (num_px * num_px * 3) 的numpy数组。转换过后，训练集（测试集）的每一列代表平展之后的图片，总共有 m_train（m_test） 列。"
   ]
  },
  {
   "cell_type": "code",
   "execution_count": 5,
   "metadata": {
    "collapsed": false
   },
   "outputs": [
    {
     "name": "stdout",
     "output_type": "stream",
     "text": [
      "train_set_x_flatten shape: (12288, 209)\n",
      "train_set_y shape: (1, 209)\n",
      "test_set_x_flatten shape: (12288, 50)\n",
      "test_set_y shape: (1, 50)\n",
      "sanity check after reshaping: [17 31 56 22 33]\n"
     ]
    }
   ],
   "source": [
    "# Reshape the training and test examples\n",
    "\n",
    "### START CODE HERE ### (≈ 2 lines of code)\n",
    "train_set_x_flatten = train_set_x_orig.reshape((m_train, num_px * num_px * 3)).T\n",
    "test_set_x_flatten = test_set_x_orig.reshape((m_test, num_px * num_px * 3)).T\n",
    "### END CODE HERE ###\n",
    "\n",
    "print (\"train_set_x_flatten shape: \" + str(train_set_x_flatten.shape))\n",
    "print (\"train_set_y shape: \" + str(train_set_y.shape))\n",
    "print (\"test_set_x_flatten shape: \" + str(test_set_x_flatten.shape))\n",
    "print (\"test_set_y shape: \" + str(test_set_y.shape))\n",
    "print (\"sanity check after reshaping: \" + str(train_set_x_flatten[0:5,0]))"
   ]
  },
  {
   "cell_type": "markdown",
   "metadata": {},
   "source": [
    "**预期执行结果**: \n",
    "\n",
    "<table style=\"width:35%\">\n",
    "  <tr>\n",
    "    <td>**train_set_x_flatten shape**</td>\n",
    "    <td> (12288, 209)</td> \n",
    "  </tr>\n",
    "  <tr>\n",
    "    <td>**train_set_y shape**</td>\n",
    "    <td>(1, 209)</td> \n",
    "  </tr>\n",
    "  <tr>\n",
    "    <td>**test_set_x_flatten shape**</td>\n",
    "    <td>(12288, 50)</td> \n",
    "  </tr>\n",
    "  <tr>\n",
    "    <td>**test_set_y shape**</td>\n",
    "    <td>(1, 50)</td> \n",
    "  </tr>\n",
    "  <tr>\n",
    "  <td>**sanity check after reshaping**</td>\n",
    "  <td>[17 31 56 22 33]</td> \n",
    "  </tr>\n",
    "</table>"
   ]
  },
  {
   "cell_type": "markdown",
   "metadata": {},
   "source": [
    "每个像素的RGB三通道值一起构成了整副图片，因此每个像素实际上是一个由三个数字组成的向量，每个数字的取值范围为0到255。\n",
    "\n",
    "机器学习中一个常见的预处理方法是对数据进行标准化，意思是对numpy数组中的每个特征，减去其均值，再除以标准差。对于图片类型的数据，直接对所有值除以255（像素通道的最大值）会更方便，也同样有效。\n",
    "\n",
    "在模型训练的过程中，首先权重和截距会和初始输入值进行运算来激活神经元，接下来使用梯度下降的反向传播来训练模型。所有特征有大致相当的值域这点十分重要，这样梯度才不会爆炸。后面的课程中会看到更多这样的例子。\n",
    "\n",
    "接下来对数据进行标准化。"
   ]
  },
  {
   "cell_type": "code",
   "execution_count": 6,
   "metadata": {
    "collapsed": true
   },
   "outputs": [],
   "source": [
    "train_set_x = train_set_x_flatten/255.\n",
    "test_set_x = test_set_x_flatten/255."
   ]
  },
  {
   "cell_type": "markdown",
   "metadata": {},
   "source": [
    "<font color='blue'>\n",
    "**请牢记：**\n",
    "\n",
    "图片数据预处理的常见步骤：\n",
    "- 弄清问题所需要的数据维度和矩阵形状（m_train, m_test, num_px, ...)\n",
    "- 转换数据集的形状使得每个训练样本是一个 (num_px \\* num_px \\* 3, 1) 的向量\n",
    "- 对数据进行标准化"
   ]
  },
  {
   "cell_type": "markdown",
   "metadata": {
    "collapsed": true
   },
   "source": [
    "### 7.3 学习算法的架构总览\n",
    "\n",
    "这里我们将用神经网络的思维，来构造逻辑回归算法，对猫的图片进行分类。下面这幅图解释了，为什么说逻辑回归实际上是一个非常简单的神经网络。\n",
    "\n",
    "<img src=\"img/LogReg_kiank.png\" style=\"width:650px;height:400px;\">\n",
    "\n",
    "**算法的数学表达**:\n",
    "\n",
    "对于样本 $x^{(i)}$:\n",
    "$$z^{(i)} = w^T x^{(i)} + b \\tag{1}$$\n",
    "$$\\hat{y}^{(i)} = a^{(i)} = sigmoid(z^{(i)})\\tag{2}$$ \n",
    "$$ \\mathcal{L}(a^{(i)}, y^{(i)}) =  - y^{(i)}  \\log(a^{(i)}) - (1-y^{(i)} )  \\log(1-a^{(i)})\\tag{3}$$\n",
    "\n",
    "算法的成本是对所有训练样本的损失求和后取平均:\n",
    "$$ J = \\frac{1}{m} \\sum_{i=1}^m \\mathcal{L}(a^{(i)}, y^{(i)})\\tag{6}$$\n",
    "\n",
    "**关键步骤**:\n",
    "在本练习中，需要完成以下步骤：\n",
    "    - 初始化模型参数\n",
    "    - 通过最小化成本，学得模型的参数\n",
    "    - 使用学得的参数进行预测（针对测试集数据）\n",
    "    - 分析结果并总结"
   ]
  },
  {
   "cell_type": "markdown",
   "metadata": {},
   "source": [
    "### 7.4 构建学习算法\n",
    "\n",
    "构建神经网络的主要步骤包括：\n",
    "1. 定义模型结构（比如输入特征的数量）\n",
    "2. 初始化模型参数\n",
    "3. 循环:\n",
    "    - 计算当前损失（前向传播）\n",
    "    - 计算当前梯度（后向传播）\n",
    "    - 更新参数（梯度下降）\n",
    "\n",
    "通常1-3的步骤是单独构建的，最终再把这些组件组合成一个叫做`model()`的函数。\n",
    "\n",
    "#### 7.4.1 - 辅助函数\n",
    "\n",
    "**练习**: 实现`sigmoid()`函数。根据上面的图片可知，需要计算 $sigmoid( w^T x + b) = \\frac{1}{1 + e^{-(w^T x + b)}}$ 来进行预测. 注意使用 np.exp()."
   ]
  },
  {
   "cell_type": "code",
   "execution_count": 7,
   "metadata": {
    "collapsed": true
   },
   "outputs": [],
   "source": [
    "# GRADED FUNCTION: sigmoid\n",
    "\n",
    "def sigmoid(z):\n",
    "    \"\"\"\n",
    "    Compute the sigmoid of z\n",
    "\n",
    "    Arguments:\n",
    "    z -- A scalar or numpy array of any size.\n",
    "\n",
    "    Return:\n",
    "    s -- sigmoid(z)\n",
    "    \"\"\"\n",
    "\n",
    "    ### START CODE HERE ### (≈ 1 line of code)\n",
    "    s = 1 / (1 + np.exp(-z))\n",
    "    ### END CODE HERE ###\n",
    "    \n",
    "    return s"
   ]
  },
  {
   "cell_type": "code",
   "execution_count": 8,
   "metadata": {
    "collapsed": false
   },
   "outputs": [
    {
     "name": "stdout",
     "output_type": "stream",
     "text": [
      "sigmoid([0, 2]) = [ 0.5         0.88079708]\n"
     ]
    }
   ],
   "source": [
    "print (\"sigmoid([0, 2]) = \" + str(sigmoid(np.array([0,2]))))"
   ]
  },
  {
   "cell_type": "markdown",
   "metadata": {},
   "source": [
    "**预期输出**: \n",
    "\n",
    "<table>\n",
    "  <tr>\n",
    "    <td>**sigmoid([0, 2])**</td>\n",
    "    <td> [ 0.5         0.88079708]</td> \n",
    "  </tr>\n",
    "</table>"
   ]
  },
  {
   "cell_type": "markdown",
   "metadata": {},
   "source": [
    "### 7.4.2 - 参数初始化\n",
    "\n",
    "**练习:** 在下面的代码块中，实现参数初始化。需要将w初始化为一列为0的向量。可以使用np.zeros()函数。"
   ]
  },
  {
   "cell_type": "code",
   "execution_count": 9,
   "metadata": {
    "collapsed": true
   },
   "outputs": [],
   "source": [
    "# GRADED FUNCTION: initialize_with_zeros\n",
    "\n",
    "def initialize_with_zeros(dim):\n",
    "    \"\"\"\n",
    "    This function creates a vector of zeros of shape (dim, 1) for w and initializes b to 0.\n",
    "    \n",
    "    Argument:\n",
    "    dim -- size of the w vector we want (or number of parameters in this case)\n",
    "    \n",
    "    Returns:\n",
    "    w -- initialized vector of shape (dim, 1)\n",
    "    b -- initialized scalar (corresponds to the bias)\n",
    "    \"\"\"\n",
    "    \n",
    "    ### START CODE HERE ### (≈ 1 line of code)\n",
    "    w = np.zeros((dim, 1))\n",
    "    b = 0\n",
    "    ### END CODE HERE ###\n",
    "\n",
    "    assert(w.shape == (dim, 1))\n",
    "    assert(isinstance(b, float) or isinstance(b, int))\n",
    "    \n",
    "    return w, b"
   ]
  },
  {
   "cell_type": "code",
   "execution_count": 10,
   "metadata": {
    "collapsed": false
   },
   "outputs": [
    {
     "name": "stdout",
     "output_type": "stream",
     "text": [
      "w = [[ 0.]\n",
      " [ 0.]]\n",
      "b = 0\n"
     ]
    }
   ],
   "source": [
    "dim = 2\n",
    "w, b = initialize_with_zeros(dim)\n",
    "print (\"w = \" + str(w))\n",
    "print (\"b = \" + str(b))"
   ]
  },
  {
   "cell_type": "markdown",
   "metadata": {},
   "source": [
    "**预期输出**: \n",
    "\n",
    "\n",
    "<table style=\"width:15%\">\n",
    "    <tr>\n",
    "        <td>  ** w **  </td>\n",
    "        <td> [[ 0.]\n",
    " [ 0.]] </td>\n",
    "    </tr>\n",
    "    <tr>\n",
    "        <td>  ** b **  </td>\n",
    "        <td> 0 </td>\n",
    "    </tr>\n",
    "</table>\n",
    "\n",
    "对于图片输入来说，w将会是(num_px $\\times$ num_px $\\times$ 3, 1)形状的向量。"
   ]
  },
  {
   "cell_type": "markdown",
   "metadata": {
    "collapsed": true
   },
   "source": [
    "#### 7.4.3 - 前向传播和反向传播\n",
    "\n",
    "参数初始化之后，就可以进行前向传播和反向传播过程，来学习参数。\n",
    "\n",
    "**练习:** 实现计算成本及其梯度的函数 `propagate()` 。\n",
    "\n",
    "**提示**:\n",
    "\n",
    "前向传播:\n",
    "- 已有 X\n",
    "- 计算 $A = \\sigma(w^T X + b) = (a^{(0)}, a^{(1)}, ..., a^{(m-1)}, a^{(m)})$\n",
    "- 计算成本函数: $J = -\\frac{1}{m}\\sum_{i=1}^{m}y^{(i)}\\log(a^{(i)})+(1-y^{(i)})\\log(1-a^{(i)})$\n",
    "\n",
    "下面是计算梯度的两个公式: \n",
    "\n",
    "$$ \\frac{\\partial J}{\\partial w} = \\frac{1}{m}X(A-Y)^T\\tag{7}$$\n",
    "$$ \\frac{\\partial J}{\\partial b} = \\frac{1}{m} \\sum_{i=1}^m (a^{(i)}-y^{(i)})\\tag{8}$$"
   ]
  },
  {
   "cell_type": "code",
   "execution_count": 11,
   "metadata": {
    "collapsed": true
   },
   "outputs": [],
   "source": [
    "# GRADED FUNCTION: propagate\n",
    "\n",
    "def propagate(w, b, X, Y):\n",
    "    \"\"\"\n",
    "    Implement the cost function and its gradient for the propagation explained above\n",
    "\n",
    "    Arguments:\n",
    "    w -- weights, a numpy array of size (num_px * num_px * 3, 1)\n",
    "    b -- bias, a scalar\n",
    "    X -- data of size (num_px * num_px * 3, number of examples)\n",
    "    Y -- true \"label\" vector (containing 0 if non-cat, 1 if cat) of size (1, number of examples)\n",
    "\n",
    "    Return:\n",
    "    cost -- negative log-likelihood cost for logistic regression\n",
    "    dw -- gradient of the loss with respect to w, thus same shape as w\n",
    "    db -- gradient of the loss with respect to b, thus same shape as b\n",
    "    \n",
    "    Tips:\n",
    "    - Write your code step by step for the propagation. np.log(), np.dot()\n",
    "    \"\"\"\n",
    "    \n",
    "    m = X.shape[1]\n",
    "    \n",
    "    # FORWARD PROPAGATION (FROM X TO COST)\n",
    "    ### START CODE HERE ### (≈ 2 lines of code)\n",
    "    A = sigmoid(np.dot(w.T, X) + b)                                    # compute activation\n",
    "    cost = -np.mean(Y * np.log(A) + (1 - Y) * np.log(1 - A))                                 # compute cost\n",
    "    ### END CODE HERE ###\n",
    "    \n",
    "    # BACKWARD PROPAGATION (TO FIND GRAD)\n",
    "    ### START CODE HERE ### (≈ 2 lines of code)\n",
    "    dw = np.dot(X, (A - Y).T) / m\n",
    "    db = np.mean(A - Y)\n",
    "    ### END CODE HERE ###\n",
    "\n",
    "    assert(dw.shape == w.shape)\n",
    "    assert(db.dtype == float)\n",
    "    cost = np.squeeze(cost)\n",
    "    assert(cost.shape == ())\n",
    "    \n",
    "    grads = {\"dw\": dw,\n",
    "             \"db\": db}\n",
    "    \n",
    "    return grads, cost"
   ]
  },
  {
   "cell_type": "code",
   "execution_count": 12,
   "metadata": {
    "collapsed": false
   },
   "outputs": [
    {
     "name": "stdout",
     "output_type": "stream",
     "text": [
      "dw = [[ 0.99845601]\n",
      " [ 2.39507239]]\n",
      "db = 0.00145557813678\n",
      "cost = 5.80154531939\n"
     ]
    }
   ],
   "source": [
    "w, b, X, Y = np.array([[1.],[2.]]), 2., np.array([[1.,2.,-1.],[3.,4.,-3.2]]), np.array([[1,0,1]])\n",
    "grads, cost = propagate(w, b, X, Y)\n",
    "print (\"dw = \" + str(grads[\"dw\"]))\n",
    "print (\"db = \" + str(grads[\"db\"]))\n",
    "print (\"cost = \" + str(cost))"
   ]
  },
  {
   "cell_type": "markdown",
   "metadata": {},
   "source": [
    "**预期输出**:\n",
    "\n",
    "<table style=\"width:50%\">\n",
    "    <tr>\n",
    "        <td>  ** dw **  </td>\n",
    "      <td> [[ 0.99845601]\n",
    "     [ 2.39507239]]</td>\n",
    "    </tr>\n",
    "    <tr>\n",
    "        <td>  ** db **  </td>\n",
    "        <td> 0.00145557813678 </td>\n",
    "    </tr>\n",
    "    <tr>\n",
    "        <td>  ** cost **  </td>\n",
    "        <td> 5.801545319394553 </td>\n",
    "    </tr>\n",
    "\n",
    "</table>"
   ]
  },
  {
   "cell_type": "markdown",
   "metadata": {},
   "source": [
    "#### d) 优化\n",
    "- 目前已经对参数进行了初始化\n",
    "- 也已经可以计算成本函数及其梯度\n",
    "- 现在，我们希望根据梯度下降进行参数更新\n",
    "\n",
    "**练习:** 完成优化函数。这里的目标是通过最小化成本函数 $J$，学得对应的参数 $w$ 和 $b$。对参数 $\\theta$ 来说，梯度下降的更新规则是 $ \\theta = \\theta - \\alpha \\text{ } d\\theta$, 其中 $\\alpha$ 是学习速率。"
   ]
  },
  {
   "cell_type": "code",
   "execution_count": 13,
   "metadata": {
    "collapsed": true
   },
   "outputs": [],
   "source": [
    "# GRADED FUNCTION: optimize\n",
    "\n",
    "def optimize(w, b, X, Y, num_iterations, learning_rate, print_cost = False):\n",
    "    \"\"\"\n",
    "    This function optimizes w and b by running a gradient descent algorithm\n",
    "    \n",
    "    Arguments:\n",
    "    w -- weights, a numpy array of size (num_px * num_px * 3, 1)\n",
    "    b -- bias, a scalar\n",
    "    X -- data of shape (num_px * num_px * 3, number of examples)\n",
    "    Y -- true \"label\" vector (containing 0 if non-cat, 1 if cat), of shape (1, number of examples)\n",
    "    num_iterations -- number of iterations of the optimization loop\n",
    "    learning_rate -- learning rate of the gradient descent update rule\n",
    "    print_cost -- True to print the loss every 100 steps\n",
    "    \n",
    "    Returns:\n",
    "    params -- dictionary containing the weights w and bias b\n",
    "    grads -- dictionary containing the gradients of the weights and bias with respect to the cost function\n",
    "    costs -- list of all the costs computed during the optimization, this will be used to plot the learning curve.\n",
    "    \n",
    "    Tips:\n",
    "    You basically need to write down two steps and iterate through them:\n",
    "        1) Calculate the cost and the gradient for the current parameters. Use propagate().\n",
    "        2) Update the parameters using gradient descent rule for w and b.\n",
    "    \"\"\"\n",
    "    \n",
    "    costs = []\n",
    "    \n",
    "    for i in range(num_iterations):\n",
    "        \n",
    "        \n",
    "        # Cost and gradient calculation (≈ 1-4 lines of code)\n",
    "        ### START CODE HERE ### \n",
    "        grads, cost = propagate(w, b, X, Y)\n",
    "        ### END CODE HERE ###\n",
    "        \n",
    "        # Retrieve derivatives from grads\n",
    "        dw = grads[\"dw\"]\n",
    "        db = grads[\"db\"]\n",
    "        \n",
    "        # update rule (≈ 2 lines of code)\n",
    "        ### START CODE HERE ###\n",
    "        w = w - learning_rate * dw\n",
    "        b = b - learning_rate * db\n",
    "        ### END CODE HERE ###\n",
    "        \n",
    "        # Record the costs\n",
    "        if i % 100 == 0:\n",
    "            costs.append(cost)\n",
    "        \n",
    "        # Print the cost every 100 training examples\n",
    "        if print_cost and i % 100 == 0:\n",
    "            print (\"Cost after iteration %i: %f\" %(i, cost))\n",
    "    \n",
    "    params = {\"w\": w,\n",
    "              \"b\": b}\n",
    "    \n",
    "    grads = {\"dw\": dw,\n",
    "             \"db\": db}\n",
    "    \n",
    "    return params, grads, costs"
   ]
  },
  {
   "cell_type": "code",
   "execution_count": 14,
   "metadata": {
    "collapsed": false
   },
   "outputs": [
    {
     "name": "stdout",
     "output_type": "stream",
     "text": [
      "w = [[ 0.19033591]\n",
      " [ 0.12259159]]\n",
      "b = 1.92535983008\n",
      "dw = [[ 0.67752042]\n",
      " [ 1.41625495]]\n",
      "db = 0.219194504541\n"
     ]
    }
   ],
   "source": [
    "params, grads, costs = optimize(w, b, X, Y, num_iterations= 100, learning_rate = 0.009, print_cost = False)\n",
    "\n",
    "print (\"w = \" + str(params[\"w\"]))\n",
    "print (\"b = \" + str(params[\"b\"]))\n",
    "print (\"dw = \" + str(grads[\"dw\"]))\n",
    "print (\"db = \" + str(grads[\"db\"]))"
   ]
  },
  {
   "cell_type": "markdown",
   "metadata": {},
   "source": [
    "**预期执行结果**: \n",
    "\n",
    "<table style=\"width:40%\">\n",
    "    <tr>\n",
    "       <td> **w** </td>\n",
    "       <td>[[ 0.19033591]\n",
    " [ 0.12259159]] </td>\n",
    "    </tr>\n",
    "    \n",
    "    <tr>\n",
    "       <td> **b** </td>\n",
    "       <td> 1.92535983008 </td>\n",
    "    </tr>\n",
    "    <tr>\n",
    "       <td> **dw** </td>\n",
    "       <td> [[ 0.67752042]\n",
    " [ 1.41625495]] </td>\n",
    "    </tr>\n",
    "    <tr>\n",
    "       <td> **db** </td>\n",
    "       <td> 0.219194504541 </td>\n",
    "    </tr>\n",
    "\n",
    "</table>"
   ]
  },
  {
   "cell_type": "markdown",
   "metadata": {},
   "source": [
    "**练习:** 上面的函数会输出最终学得的参数 w 和 b。我们可以使用 w 和 b 来预测数据集 X 的标签。实现 `predict()` 函数，包含两个步骤:\n",
    "\n",
    "1. 计算 $\\hat{Y} = A = \\sigma(w^T X + b)$\n",
    "\n",
    "2. 讲结果转为0 (如果 激活值 <= 0.5) 或 1 (如果 激活值 > 0.5), 讲预测结果存储在向量 `Y_prediction` 中。"
   ]
  },
  {
   "cell_type": "code",
   "execution_count": 15,
   "metadata": {
    "collapsed": true
   },
   "outputs": [],
   "source": [
    "# GRADED FUNCTION: predict\n",
    "\n",
    "def predict(w, b, X):\n",
    "    '''\n",
    "    Predict whether the label is 0 or 1 using learned logistic regression parameters (w, b)\n",
    "    \n",
    "    Arguments:\n",
    "    w -- weights, a numpy array of size (num_px * num_px * 3, 1)\n",
    "    b -- bias, a scalar\n",
    "    X -- data of size (num_px * num_px * 3, number of examples)\n",
    "    \n",
    "    Returns:\n",
    "    Y_prediction -- a numpy array (vector) containing all predictions (0/1) for the examples in X\n",
    "    '''\n",
    "    \n",
    "    m = X.shape[1]\n",
    "    Y_prediction = np.zeros((1,m))\n",
    "    w = w.reshape(X.shape[0], 1)\n",
    "    \n",
    "    # Compute vector \"A\" predicting the probabilities of a cat being present in the picture\n",
    "    ### START CODE HERE ### (≈ 1 line of code)\n",
    "    A = sigmoid(np.dot(w.T, X) + b)\n",
    "    ### END CODE HERE ###\n",
    "    \n",
    "    for i in range(A.shape[1]):\n",
    "        \n",
    "        # Convert probabilities A[0,i] to actual predictions p[0,i]\n",
    "        ### START CODE HERE ### (≈ 4 lines of code)\n",
    "        Y_prediction[0][i] = 1 if A[0][i] > 0.5 else 0\n",
    "        ### END CODE HERE ###\n",
    "    \n",
    "    assert(Y_prediction.shape == (1, m))\n",
    "    \n",
    "    return Y_prediction"
   ]
  },
  {
   "cell_type": "code",
   "execution_count": 16,
   "metadata": {
    "collapsed": false
   },
   "outputs": [
    {
     "name": "stdout",
     "output_type": "stream",
     "text": [
      "predictions = [[ 1.  1.  0.]]\n"
     ]
    }
   ],
   "source": [
    "w = np.array([[0.1124579],[0.23106775]])\n",
    "b = -0.3\n",
    "X = np.array([[1.,-1.1,-3.2],[1.2,2.,0.1]])\n",
    "print (\"predictions = \" + str(predict(w, b, X)))"
   ]
  },
  {
   "cell_type": "markdown",
   "metadata": {},
   "source": [
    "**预期输出**: \n",
    "\n",
    "<table style=\"width:30%\">\n",
    "    <tr>\n",
    "         <td>\n",
    "             **predictions**\n",
    "         </td>\n",
    "          <td>\n",
    "            [[ 1.  1.  0.]]\n",
    "         </td>  \n",
    "   </tr>\n",
    "\n",
    "</table>\n"
   ]
  },
  {
   "cell_type": "markdown",
   "metadata": {},
   "source": [
    "<font color='blue'>\n",
    "**回顾:**\n",
    "我们实现了几个函数，用来:\n",
    "- 初始化 (w,b)\n",
    "- 迭代地优化损失，从而学得参数 (w,b):\n",
    "    - 计算成本及其梯度 \n",
    "    - 使用梯度下降更新参数\n",
    "- 使用学得的参数 (w,b) 对预测给定数据集的标签"
   ]
  },
  {
   "cell_type": "markdown",
   "metadata": {
    "collapsed": true
   },
   "source": [
    "### 7.5 将所有函数合并为模型\n",
    "\n",
    "将所有函数按正确的顺序组合在一起，形成模型。\n",
    "\n",
    "**练习:** 实现model函数，采用以下标记:\n",
    "    - Y_prediction 表示对测试集的预测值\n",
    "    - Y_prediction_train 表示对训练集的预测值\n",
    "    - w, costs, grads 表示需要优化的输出值"
   ]
  },
  {
   "cell_type": "code",
   "execution_count": 17,
   "metadata": {
    "collapsed": true
   },
   "outputs": [],
   "source": [
    "# GRADED FUNCTION: model\n",
    "\n",
    "def model(X_train, Y_train, X_test, Y_test, num_iterations = 2000, learning_rate = 0.5, print_cost = False):\n",
    "    \"\"\"\n",
    "    Builds the logistic regression model by calling the function you've implemented previously\n",
    "    \n",
    "    Arguments:\n",
    "    X_train -- training set represented by a numpy array of shape (num_px * num_px * 3, m_train)\n",
    "    Y_train -- training labels represented by a numpy array (vector) of shape (1, m_train)\n",
    "    X_test -- test set represented by a numpy array of shape (num_px * num_px * 3, m_test)\n",
    "    Y_test -- test labels represented by a numpy array (vector) of shape (1, m_test)\n",
    "    num_iterations -- hyperparameter representing the number of iterations to optimize the parameters\n",
    "    learning_rate -- hyperparameter representing the learning rate used in the update rule of optimize()\n",
    "    print_cost -- Set to true to print the cost every 100 iterations\n",
    "    \n",
    "    Returns:\n",
    "    d -- dictionary containing information about the model.\n",
    "    \"\"\"\n",
    "    \n",
    "    ### START CODE HERE ###\n",
    "    \n",
    "    # initialize parameters with zeros (≈ 1 line of code)\n",
    "    w, b = initialize_with_zeros(X_train.shape[0])\n",
    "\n",
    "    # Gradient descent (≈ 1 line of code)\n",
    "    parameters, grads, costs = optimize(w, b, X_train, Y_train, num_iterations, learning_rate, print_cost)\n",
    "    \n",
    "    # Retrieve parameters w and b from dictionary \"parameters\"\n",
    "    w = parameters[\"w\"]\n",
    "    b = parameters[\"b\"]\n",
    "    \n",
    "    # Predict test/train set examples (≈ 2 lines of code)\n",
    "    Y_prediction_test = predict(w, b, X_test)\n",
    "    Y_prediction_train = predict(w, b, X_train)\n",
    "\n",
    "    ### END CODE HERE ###\n",
    "\n",
    "    # Print train/test Errors\n",
    "    print(\"train accuracy: {} %\".format(100 - np.mean(np.abs(Y_prediction_train - Y_train)) * 100))\n",
    "    print(\"test accuracy: {} %\".format(100 - np.mean(np.abs(Y_prediction_test - Y_test)) * 100))\n",
    "\n",
    "    \n",
    "    d = {\"costs\": costs,\n",
    "         \"Y_prediction_test\": Y_prediction_test, \n",
    "         \"Y_prediction_train\" : Y_prediction_train, \n",
    "         \"w\" : w, \n",
    "         \"b\" : b,\n",
    "         \"learning_rate\" : learning_rate,\n",
    "         \"num_iterations\": num_iterations}\n",
    "    \n",
    "    return d"
   ]
  },
  {
   "cell_type": "markdown",
   "metadata": {},
   "source": [
    "运行下面的代码块来训练模型"
   ]
  },
  {
   "cell_type": "code",
   "execution_count": 18,
   "metadata": {
    "collapsed": false
   },
   "outputs": [
    {
     "name": "stdout",
     "output_type": "stream",
     "text": [
      "Cost after iteration 0: 0.693147\n",
      "Cost after iteration 100: 0.584508\n",
      "Cost after iteration 200: 0.466949\n",
      "Cost after iteration 300: 0.376007\n",
      "Cost after iteration 400: 0.331463\n",
      "Cost after iteration 500: 0.303273\n",
      "Cost after iteration 600: 0.279880\n",
      "Cost after iteration 700: 0.260042\n",
      "Cost after iteration 800: 0.242941\n",
      "Cost after iteration 900: 0.228004\n",
      "Cost after iteration 1000: 0.214820\n",
      "Cost after iteration 1100: 0.203078\n",
      "Cost after iteration 1200: 0.192544\n",
      "Cost after iteration 1300: 0.183033\n",
      "Cost after iteration 1400: 0.174399\n",
      "Cost after iteration 1500: 0.166521\n",
      "Cost after iteration 1600: 0.159305\n",
      "Cost after iteration 1700: 0.152667\n",
      "Cost after iteration 1800: 0.146542\n",
      "Cost after iteration 1900: 0.140872\n",
      "train accuracy: 99.04306220095694 %\n",
      "test accuracy: 70.0 %\n"
     ]
    }
   ],
   "source": [
    "d = model(train_set_x, train_set_y, test_set_x, test_set_y, num_iterations = 2000, learning_rate = 0.005, print_cost = True)"
   ]
  },
  {
   "cell_type": "markdown",
   "metadata": {},
   "source": [
    "**预期执行结果**: \n",
    "\n",
    "<table style=\"width:40%\"> \n",
    "\n",
    "    <tr>\n",
    "        <td> **Cost after iteration 0 **  </td> \n",
    "        <td> 0.693147 </td>\n",
    "    </tr>\n",
    "      <tr>\n",
    "        <td> <center> $\\vdots$ </center> </td> \n",
    "        <td> <center> $\\vdots$ </center> </td> \n",
    "    </tr>  \n",
    "    <tr>\n",
    "        <td> **Train Accuracy**  </td> \n",
    "        <td> 99.04306220095694 % </td>\n",
    "    </tr>\n",
    "\n",
    "    <tr>\n",
    "        <td>**Test Accuracy** </td> \n",
    "        <td> 70.0 % </td>\n",
    "    </tr>\n",
    "</table> \n",
    "\n",
    "\n"
   ]
  },
  {
   "cell_type": "markdown",
   "metadata": {},
   "source": [
    "**注释**: 训练集准确率接近100%，这是一个很好的检查：我们的模型运转正常，有足够的能力来你和训练数据。测试的准确率为70%，对于这样一个简单的模型来说，考虑到我们的数据集很小而逻辑回归又是线性分类器，这个成绩也不算太坏。但不用担心，后面我们会构建更好的分类器。\n",
    "\n",
    "另外，显然我们的模型已经对训练数据过拟合了。在后面的课程中，我们将会学习到如何控制过拟合，比如使用正则化。使用下面的代码块（可以修改`index`），对测试集数据的预测进行可视化。"
   ]
  },
  {
   "cell_type": "code",
   "execution_count": 19,
   "metadata": {
    "collapsed": false
   },
   "outputs": [
    {
     "name": "stdout",
     "output_type": "stream",
     "text": [
      "y = 0, you predicted that it is a \"cat\" picture.\n"
     ]
    },
    {
     "data": {
      "image/png": "[encoded data removed]",
      "text/plain": [
       "<matplotlib.figure.Figure at 0x7f9b9f449550>"
      ]
     },
     "metadata": {},
     "output_type": "display_data"
    }
   ],
   "source": [
    "# Example of a picture that was wrongly classified.\n",
    "index = 5\n",
    "plt.imshow(test_set_x[:,index].reshape((num_px, num_px, 3)))\n",
    "print(\"y = \" + str(test_set_y[0,index]) + \", you predicted that it is a \\\"\" + classes[int(d[\"Y_prediction_test\"][0,index])].decode(\"utf-8\") +  \"\\\" picture.\")"
   ]
  },
  {
   "cell_type": "markdown",
   "metadata": {},
   "source": [
    "同样地，我们也对成本函数和梯度进行可视化"
   ]
  },
  {
   "cell_type": "code",
   "execution_count": 20,
   "metadata": {
    "collapsed": false
   },
   "outputs": [
    {
     "data": {
      "image/png": "[encoded data removed]",
      "text/plain": [
       "<matplotlib.figure.Figure at 0x7f9b9f4494e0>"
      ]
     },
     "metadata": {},
     "output_type": "display_data"
    }
   ],
   "source": [
    "# Plot learning curve (with costs)\n",
    "costs = np.squeeze(d['costs'])\n",
    "plt.plot(costs)\n",
    "plt.ylabel('cost')\n",
    "plt.xlabel('iterations (per hundreds)')\n",
    "plt.title(\"Learning rate =\" + str(d[\"learning_rate\"]))\n",
    "plt.show()"
   ]
  },
  {
   "cell_type": "markdown",
   "metadata": {},
   "source": [
    "**解释**:\n",
    "可以看到成本一直在下降，这表明参数一直在按照我们的预想进行学习。而从趋势上，训练集的成本还可以进一步降低。试着增加上面代码块中的迭代次数并重新执行。你可能会发现，训练集的准确率进一步上升了，而测试集的准确率进一步下降。这种现象叫做过拟合。"
   ]
  },
  {
   "cell_type": "markdown",
   "metadata": {},
   "source": [
    "### 7.6 进一步的分析\n",
    "\n",
    "#### 学习速率的选择\n",
    "\n",
    "**提示**:\n",
    "为了保证梯度下降顺利执行，首先需要合理地选择学习速率。学习速率 $\\alpha$ 决定了更新参数的幅度。当学习速率过大时，可能会适得其反。而当学习速率很小时，则会耗费更多轮次的迭代来收敛到最终数值。因此选择合适的学习速率十分关键。\n",
    "\n",
    "我们来比较一下不同的学习速率所对应的学习曲线。执行下面的代码块，你也可以修改不同的学习速率值`learning_rates`，来看对应的情况。 "
   ]
  },
  {
   "cell_type": "code",
   "execution_count": 21,
   "metadata": {
    "collapsed": false
   },
   "outputs": [
    {
     "name": "stdout",
     "output_type": "stream",
     "text": [
      "learning rate is: 0.01\n",
      "train accuracy: 99.52153110047847 %\n",
      "test accuracy: 68.0 %\n",
      "\n",
      "-------------------------------------------------------\n",
      "\n",
      "learning rate is: 0.001\n",
      "train accuracy: 88.99521531100478 %\n",
      "test accuracy: 64.0 %\n",
      "\n",
      "-------------------------------------------------------\n",
      "\n",
      "learning rate is: 0.0001\n",
      "train accuracy: 68.42105263157895 %\n",
      "test accuracy: 36.0 %\n",
      "\n",
      "-------------------------------------------------------\n",
      "\n"
     ]
    },
    {
     "data": {
      "image/png": "[encoded data removed]",
      "text/plain": [
       "<matplotlib.figure.Figure at 0x7f9b9f3f9b70>"
      ]
     },
     "metadata": {},
     "output_type": "display_data"
    }
   ],
   "source": [
    "learning_rates = [0.01, 0.001, 0.0001]\n",
    "models = {}\n",
    "for i in learning_rates:\n",
    "    print (\"learning rate is: \" + str(i))\n",
    "    models[str(i)] = model(train_set_x, train_set_y, test_set_x, test_set_y, num_iterations = 1500, learning_rate = i, print_cost = False)\n",
    "    print ('\\n' + \"-------------------------------------------------------\" + '\\n')\n",
    "\n",
    "for i in learning_rates:\n",
    "    plt.plot(np.squeeze(models[str(i)][\"costs\"]), label= str(models[str(i)][\"learning_rate\"]))\n",
    "\n",
    "plt.ylabel('cost')\n",
    "plt.xlabel('iterations')\n",
    "\n",
    "legend = plt.legend(loc='upper center', shadow=True)\n",
    "frame = legend.get_frame()\n",
    "frame.set_facecolor('0.90')\n",
    "plt.show()"
   ]
  },
  {
   "cell_type": "markdown",
   "metadata": {},
   "source": [
    "**解释**: \n",
    "- 不同的学习速率给出了不同的成本，从而也对应了不同的预测结果\n",
    "- 如果学习速率过大（0.01），成本可能上下震荡，甚至可能发散。（在这个例子中，使用0.01的学习速率依然最终收敛到了一个还不错的成本值）\n",
    "- 更低的成本不一定对应着更好的模型，也可能的过拟合。当发生过拟合时，训练集的准确率会远高于测试机的准确率。\n",
    "- 在深度学习中，通常间隙: \n",
    "    - 使用更好最小化成本函数的学习速率。\n",
    "    - 如果模型过拟合，则使用其它的一些技巧来降低过拟合。\n"
   ]
  },
  {
   "cell_type": "code",
   "execution_count": null,
   "metadata": {
    "collapsed": true
   },
   "outputs": [],
   "source": []
  }
 ],
 "metadata": {
  "anaconda-cloud": {},
  "kernelspec": {
   "display_name": "Python [conda root]",
   "language": "python",
   "name": "conda-root-py"
  },
  "language_info": {
   "codemirror_mode": {
    "name": "ipython",
    "version": 3
   },
   "file_extension": ".py",
   "mimetype": "text/x-python",
   "name": "python",
   "nbconvert_exporter": "python",
   "pygments_lexer": "ipython3",
   "version": "3.5.2"
  }
 },
 "nbformat": 4,
 "nbformat_minor": 1
}
