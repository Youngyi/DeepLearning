{
 "cells": [
  {
   "cell_type": "markdown",
   "metadata": {},
   "source": [
    "# 机器学习策略（2）"
   ]
  },
  {
   "cell_type": "markdown",
   "metadata": {},
   "source": [
    "## 1. 错误分析"
   ]
  },
  {
   "cell_type": "markdown",
   "metadata": {},
   "source": [
    "### 1.1 进行错误分析\n",
    "\n",
    "从开发集中找到一组分类器错误分类的样本，不论是FP还是FN，人工将这些错误的样本进行错误分类。针对占比较高的错误分类情况采取进一步行动。"
   ]
  },
  {
   "cell_type": "markdown",
   "metadata": {},
   "source": [
    "### 1.2 清理错误标记的数据\n",
    "\n",
    "深度学习算法对于训练集中的随机误差（人工标记时无心的错误）是十分健壮的，但很容易收到系统误差的影响（人工标记时总是将某种类型的输入标记错误）。\n",
    "\n",
    "而在错误分析时，我们针对的是开发集的数据。建议在错误分析过程中，建立一个叫做“标记错误”的分类。分析“标记错误”的占比是否足够大。如果非常大的话，开发集的成本函数值甚至都不足以作为一个比较不同分类器的可用指标，需要清理错误标记的数据，而这个清理过程，需要遵循下面一些指导原则：\n",
    "    - 用同样的方法去清理测试集，以保证开发集和测试集依然来自同一分布\n",
    "    - 不仅考虑模型分类错误的样本，可能也需要检查一下分类正确的样本（由于分类正确的相对会更多，有时也会跳过这一步）\n",
    "    - 训练集允许和开发集/测试集来自略微不同的分布（不是非得清理训练集中错误标记的数据）"
   ]
  },
  {
   "cell_type": "markdown",
   "metadata": {
    "collapsed": true
   },
   "source": [
    "### 1.3 快速搭建第一个模型，然后迭代\n",
    "\n",
    "设立开发集、训练集，确定度量指标，然后快速搭建初始模型。之后再通过偏差/方差分析，错误分析，决定接下来步骤的优先级。"
   ]
  },
  {
   "cell_type": "markdown",
   "metadata": {},
   "source": [
    "## 2. 不匹配的训练集与开发/测试集\n",
    "\n",
    "### 2.1 训练集和测试集来自不同的分布\n",
    "\n",
    "由于深度学习对于数据量的需求极大，在深度学习时代，越来越多的团队开始在与开发/测试集不同分布的训练集上训练模型，以求获得更多的数据。这里面有部分微妙的地方，最好遵循最佳实践：至少保证开发集和测试集来自同一分布（使用真实数据），可以适当地将部分真实数据加入到训练集中。"
   ]
  },
  {
   "cell_type": "markdown",
   "metadata": {},
   "source": [
    "### 2.2 来自不同分布数据的偏差方差分析\n",
    "\n",
    "当训练集的分布和开发集/测试集不同时，偏差/方差分析也会有细微的差异。\n",
    "\n",
    "之前我们认为训练集误差和开发集误差之间的差异，属于方差，是模型泛化能力不足导致的。当开发集和训练集来自不同的分布时，它们误差的差异，还有可能是不同的数据分布导致的。为了应对这个问题，我们需要将训练集再细分，划出一小部分，作为训练开发集。训练开发集来自和训练集同样的分布，但它不用于训练模型。这样，我们认为，训练集和训练开发集之间的差异是方差，而训练开发集和开发集之间的差异是数据不匹配。\n",
    "\n",
    "![Bias variance on mismatched training and dev test sets](img/Bias variance on mismatched training and dev test sets.png)\n",
    "\n",
    "![More general formulation](img/More general formulation.png)"
   ]
  },
  {
   "cell_type": "markdown",
   "metadata": {},
   "source": [
    "### 2.3 处理数据不匹配问题\n",
    "\n",
    "在做偏差/方差分析时，我们讨论过各种应对策略。而为了获得更多的训练数据，在允许训练集和测试集/开发集来自不同的分布之后，又引入了数据不匹配的新问题。处理数据不匹配，可能没有什么系统性的办法，大致的参考思路包括以下两类：\n",
    "\n",
    "- 人工进行错误分析，理解训练集与开发集/测试集之前的不同。\n",
    "- 想办法使训练数据变得和开发集/测试集数据更相似，或者收集更多类似开发集/测试集的数据。\n",
    "\n",
    "其中第二类思路，又引申出，可以人工合成新数据。但人工合成的新数据，可能面临着无法模拟真实数据分布的问题（尽管从肉眼来看，已经足够真实，但模型不这么认为）。"
   ]
  },
  {
   "cell_type": "code",
   "execution_count": null,
   "metadata": {
    "collapsed": true
   },
   "outputs": [],
   "source": []
  }
 ],
 "metadata": {
  "anaconda-cloud": {},
  "kernelspec": {
   "display_name": "Python [default]",
   "language": "python",
   "name": "python3"
  },
  "language_info": {
   "codemirror_mode": {
    "name": "ipython",
    "version": 3
   },
   "file_extension": ".py",
   "mimetype": "text/x-python",
   "name": "python",
   "nbconvert_exporter": "python",
   "pygments_lexer": "ipython3",
   "version": "3.5.2"
  }
 },
 "nbformat": 4,
 "nbformat_minor": 1
}
