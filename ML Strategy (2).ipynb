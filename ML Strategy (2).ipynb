{
 "cells": [
  {
   "cell_type": "markdown",
   "metadata": {},
   "source": [
    "# 机器学习策略（2）"
   ]
  },
  {
   "cell_type": "markdown",
   "metadata": {},
   "source": [
    "## 1. 错误分析"
   ]
  },
  {
   "cell_type": "markdown",
   "metadata": {},
   "source": [
    "### 1.1 进行错误分析\n",
    "\n",
    "从开发集中找到一组分类器错误分类的样本，不论是FP还是FN，人工将这些错误的样本进行错误分类。针对占比较高的错误分类情况采取进一步行动。"
   ]
  },
  {
   "cell_type": "markdown",
   "metadata": {},
   "source": [
    "### 1.2 清理错误标记的数据\n",
    "\n",
    "深度学习算法对于训练集中的随机误差（人工标记时无心的错误）是十分健壮的，但很容易收到系统误差的影响（人工标记时总是将某种类型的输入标记错误）。\n",
    "\n",
    "而在错误分析时，我们针对的是开发集的数据。建议在错误分析过程中，建立一个叫做“标记错误”的分类。分析“标记错误”的占比是否足够大。如果非常大的话，开发集的成本函数值甚至都不足以作为一个比较不同分类器的可用指标，需要清理错误标记的数据，而这个清理过程，需要遵循下面一些指导原则：\n",
    "    - 用同样的方法去清理测试集，以保证开发集和测试集依然来自同一分布\n",
    "    - 不仅考虑模型分类错误的样本，可能也需要检查一下分类正确的样本（由于分类正确的相对会更多，有时也会跳过这一步）\n",
    "    - 训练集允许和开发集/测试集来自略微不同的分布（不是非得清理训练集中错误标记的数据）"
   ]
  },
  {
   "cell_type": "code",
   "execution_count": null,
   "metadata": {
    "collapsed": true
   },
   "outputs": [],
   "source": []
  }
 ],
 "metadata": {
  "kernelspec": {
   "display_name": "Python [default]",
   "language": "python",
   "name": "python3"
  },
  "language_info": {
   "codemirror_mode": {
    "name": "ipython",
    "version": 3
   },
   "file_extension": ".py",
   "mimetype": "text/x-python",
   "name": "python",
   "nbconvert_exporter": "python",
   "pygments_lexer": "ipython3",
   "version": "3.5.2"
  }
 },
 "nbformat": 4,
 "nbformat_minor": 1
}
