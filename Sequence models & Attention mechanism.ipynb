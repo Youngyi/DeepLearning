{
 "cells": [
  {
   "cell_type": "markdown",
   "metadata": {},
   "source": [
    "# 序列模型和注意机制 Sequence Models & Attention Mechanism"
   ]
  },
  {
   "cell_type": "markdown",
   "metadata": {},
   "source": [
    "## 1. 常见的序列到序列架构 Various sequence to sequence architectures"
   ]
  },
  {
   "cell_type": "markdown",
   "metadata": {},
   "source": [
    "### 1.1 基本模型 Basic Models\n",
    "\n",
    "![Sequence to sequence model.png](img/Sequence to sequence model.png)\n",
    "\n",
    "![Image captioning.png](img/Image captioning.png)"
   ]
  },
  {
   "cell_type": "markdown",
   "metadata": {
    "collapsed": true
   },
   "source": [
    "### 1.2 挑选概率最高的句子 Picking the most likely sentence\n",
    "\n",
    "序列到序列的机器翻译模型，和语言模型，有一定相同的地方，它们都需要挑选概率最高的句子。但二者之间也存在一些显著的不同。\n",
    "\n",
    "序列到序列的机器翻译模型，可以看做条件概率下的语言模型：\n",
    "![Machine translation as building a conditional language model.png](img/Machine translation as building a conditional language model.png)\n",
    "\n",
    "有了这个条件概率的语言模型，它可以生成不同的翻译，并且判定各个翻译的概率。但对于机器翻译问题，我们不需要随机生成的句子，而是需要找到概率最大的句子：\n",
    "![Finding the most likely translation.png](img/Finding the most likely translation.png)\n",
    "\n",
    "使用贪心算法，每一步找到最大概率的下一个词，可能导致无法找到全局最大值；而穷举搜索是不现实的，计算量太大：\n",
    "![Why not a greedy search.png](img/Why not a greedy search.png)"
   ]
  },
  {
   "cell_type": "markdown",
   "metadata": {},
   "source": [
    "### 1.3 定向搜索 Beam Search\n",
    "\n",
    "定向搜索不一定保证能找到全局最优解，但通常能达到不错的效果。\n",
    "\n",
    "第一步：预先设定好**定向宽度 beam width**的参数B，计算encoder部分的值 $x$，根据 $x$ 就可以计算 $P(y^{<1>}|x)$ 的值。取条件概率最大的B个词，并保存其对应的条件概率。\n",
    "\n",
    "![Beam search algorithm 1.png](img/Beam search algorithm 1.png)\n",
    "\n",
    "第二步：将上一步选出的B个词，分别作为 $y^{<1>}$，将词典中所有的词作为 $y^{<2>}$，计算 $P(y^{<1>},y^{<2>}|x) = P(y^{<1>}|x)P(y^{<2>}|x, y^{<1>})$。这样假设词典中有10000个词，就可以获得 10000×B 组 $y^{<1>}，y^{<1>}$ 的组合。再一次从中挑选出概率最大的B个 $y^{<1>}，y^{<1>}$ 组合。\n",
    "\n",
    "![Beam search algorithm 2.png](img/Beam search algorithm 2.png)\n",
    "\n",
    "第三步：类似上一步。继续重复上面的步骤，知道句子结束。注意当 $B=1$ 时，定向搜索就是贪心搜索。\n",
    "\n",
    "![Beam search algorithm 3.png](img/Beam search algorithm 3.png)"
   ]
  },
  {
   "cell_type": "code",
   "execution_count": null,
   "metadata": {
    "collapsed": true
   },
   "outputs": [],
   "source": []
  }
 ],
 "metadata": {
  "kernelspec": {
   "display_name": "Python [default]",
   "language": "python",
   "name": "python3"
  },
  "language_info": {
   "codemirror_mode": {
    "name": "ipython",
    "version": 3
   },
   "file_extension": ".py",
   "mimetype": "text/x-python",
   "name": "python",
   "nbconvert_exporter": "python",
   "pygments_lexer": "ipython3",
   "version": "3.5.2"
  }
 },
 "nbformat": 4,
 "nbformat_minor": 1
}
