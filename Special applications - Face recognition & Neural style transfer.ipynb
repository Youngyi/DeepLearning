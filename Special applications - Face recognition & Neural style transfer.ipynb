{
 "cells": [
  {
   "cell_type": "markdown",
   "metadata": {},
   "source": [
    "# 特殊应用：人脸识别 & 神经风格迁移"
   ]
  },
  {
   "cell_type": "markdown",
   "metadata": {},
   "source": [
    "# 1. 人脸识别 Face Recognition"
   ]
  },
  {
   "cell_type": "markdown",
   "metadata": {},
   "source": [
    "## 1.1 什么是人脸识别 What is face recognition?\n",
    "\n",
    "一个商用的人脸识别系统，通常包含人脸识别（确保是人脸）和活体检测（确保是真人而不是人脸的图片）。本章将会主要关注狭义的人脸识别。而活体检测也是可以用监督学习来做的。\n",
    "\n",
    "人脸验证（face verification）和人脸识别（face recognition）也是经常用来相互区分的一组概念。当人脸验证算法的准确率足够高时，它就可以用来构建一个人脸识别算法。\n",
    "\n",
    "![Face verification vs face recognition.png](img/Face verification vs face recognition.png)"
   ]
  },
  {
   "cell_type": "code",
   "execution_count": null,
   "metadata": {
    "collapsed": true
   },
   "outputs": [],
   "source": []
  }
 ],
 "metadata": {
  "anaconda-cloud": {},
  "kernelspec": {
   "display_name": "Python [default]",
   "language": "python",
   "name": "python3"
  },
  "language_info": {
   "codemirror_mode": {
    "name": "ipython",
    "version": 3
   },
   "file_extension": ".py",
   "mimetype": "text/x-python",
   "name": "python",
   "nbconvert_exporter": "python",
   "pygments_lexer": "ipython3",
   "version": "3.5.2"
  }
 },
 "nbformat": 4,
 "nbformat_minor": 1
}
