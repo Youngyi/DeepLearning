{
 "cells": [
  {
   "cell_type": "markdown",
   "metadata": {},
   "source": [
    "# 特殊应用：人脸识别 & 神经风格迁移"
   ]
  },
  {
   "cell_type": "markdown",
   "metadata": {},
   "source": [
    "# 1. 人脸识别 Face Recognition"
   ]
  },
  {
   "cell_type": "markdown",
   "metadata": {},
   "source": [
    "## 1.1 什么是人脸识别 What is face recognition?\n",
    "\n",
    "一个商用的人脸识别系统，通常包含人脸识别（确保是人脸）和活体检测（确保是真人而不是人脸的图片）。本章将会主要关注狭义的人脸识别。而活体检测也是可以用监督学习来做的。\n",
    "\n",
    "人脸验证（face verification）和人脸识别（face recognition）也是经常用来相互区分的一组概念。当人脸验证算法的准确率足够高时，它就可以用来构建一个人脸识别算法。\n",
    "\n",
    "![Face verification vs face recognition.png](img/Face verification vs face recognition.png)"
   ]
  },
  {
   "cell_type": "markdown",
   "metadata": {},
   "source": [
    "### 1.2 一次性学习 One Shot Learning\n",
    "\n",
    "对于人脸验证问题，每个人只有一张图片，由于样本量很小，很难训练出稳定的接受新图片，判断是否在图片库内的卷积神经网络模型。同时，由于图片库会更新，增加或减少样本时，需要修改Softmax层的神经元数量重新训练，也比较麻烦。\n",
    "![One-shot learning.png](img/One-shot learning.png)\n",
    "\n",
    "取而代之，在人脸验证问题中，我们会用神经网络训练一个模型，接受两张图片作为参数，输出它们的相似度。\n",
    "![Learning a similarity function.png](img/Learning a similarity function.png)"
   ]
  },
  {
   "cell_type": "code",
   "execution_count": null,
   "metadata": {
    "collapsed": true
   },
   "outputs": [],
   "source": []
  }
 ],
 "metadata": {
  "anaconda-cloud": {},
  "kernelspec": {
   "display_name": "Python [default]",
   "language": "python",
   "name": "python3"
  },
  "language_info": {
   "codemirror_mode": {
    "name": "ipython",
    "version": 3
   },
   "file_extension": ".py",
   "mimetype": "text/x-python",
   "name": "python",
   "nbconvert_exporter": "python",
   "pygments_lexer": "ipython3",
   "version": "3.5.2"
  }
 },
 "nbformat": 4,
 "nbformat_minor": 1
}
