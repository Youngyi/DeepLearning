{
 "cells": [
  {
   "cell_type": "markdown",
   "metadata": {},
   "source": [
    "# 浅层神经网络"
   ]
  },
  {
   "cell_type": "markdown",
   "metadata": {},
   "source": [
    "## 1. 神经网络总览\n",
    "\n",
    "在上一节我们介绍了逻辑回归的计算过程，将多个逻辑回归的sigmoid单元融合起来，就成为了一个非常简单的神经网络。\n",
    "\n",
    "下图中，每个圆圈所代表的神经元，包含了线性组合（$w^Tx+b$）以及激活函数（$\\sigma(z)$）两个计算步骤。\n",
    "\n",
    "为了计算的方便，在神经网络中，每一层的权重会形成一个矩阵 $W$（而不再是向量 $w$），一个截距向量 $b$（而不再是截距标量 $b$）。用方括号上标 $[i]$ 表示第 $i$ 层对应的参数。习惯上，输入层不计入神经网络的层数（也可以把输入层看做是第 $0$ 层）。下图表示了一个两层的神经网络及其对应的参数。\n",
    "\n",
    "整个计算过程，也是往复的前向传播和后向传播过程。\n",
    "\n",
    "![What is a neural network](img/What is a Neural Network.png)"
   ]
  },
  {
   "cell_type": "code",
   "execution_count": null,
   "metadata": {
    "collapsed": true
   },
   "outputs": [],
   "source": []
  }
 ],
 "metadata": {
  "anaconda-cloud": {},
  "kernelspec": {
   "display_name": "Python [conda root]",
   "language": "python",
   "name": "conda-root-py"
  },
  "language_info": {
   "codemirror_mode": {
    "name": "ipython",
    "version": 3
   },
   "file_extension": ".py",
   "mimetype": "text/x-python",
   "name": "python",
   "nbconvert_exporter": "python",
   "pygments_lexer": "ipython3",
   "version": "3.5.2"
  }
 },
 "nbformat": 4,
 "nbformat_minor": 1
}
