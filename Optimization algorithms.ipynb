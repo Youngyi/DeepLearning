{
 "cells": [
  {
   "cell_type": "markdown",
   "metadata": {},
   "source": [
    "# 优化算法"
   ]
  },
  {
   "cell_type": "markdown",
   "metadata": {},
   "source": [
    "## 1. 微批梯度下降\n",
    "\n",
    "批量梯度下降一次性将所有样本进行矩阵运算，这个向量化运算的过程，利用CPU或GPU的并行计算指令集，可以获得比单个样本计算更高的效率。\n",
    "\n",
    "当样本量过大时，比如来到百万级或以上，视内存或显存的限制而定，对超大的矩阵进行运算，反而会导致效率下降。微批梯度下降的思路，就是将训练样本分组，对每个组（每个批次）进行梯度下降运算。\n",
    "\n",
    "对每个批次的一次前向传播和反向传播计算过程，称为一个**阶段 epoch**。而将所有批次进行计算完成后，参数还不会收敛。需要持续循环。\n",
    "\n",
    "![Mini-batch gradient descent](img/Mini-batch gradient descent.png)"
   ]
  },
  {
   "cell_type": "code",
   "execution_count": null,
   "metadata": {
    "collapsed": true
   },
   "outputs": [],
   "source": []
  }
 ],
 "metadata": {
  "anaconda-cloud": {},
  "kernelspec": {
   "display_name": "Python [default]",
   "language": "python",
   "name": "python3"
  },
  "language_info": {
   "codemirror_mode": {
    "name": "ipython",
    "version": 3
   },
   "file_extension": ".py",
   "mimetype": "text/x-python",
   "name": "python",
   "nbconvert_exporter": "python",
   "pygments_lexer": "ipython3",
   "version": "3.5.2"
  }
 },
 "nbformat": 4,
 "nbformat_minor": 1
}
