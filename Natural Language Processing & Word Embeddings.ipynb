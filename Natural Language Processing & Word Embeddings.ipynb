{
 "cells": [
  {
   "cell_type": "markdown",
   "metadata": {},
   "source": [
    "# 自然语言处理&词嵌入 Natural Language Processing & Word Embeddings"
   ]
  },
  {
   "cell_type": "markdown",
   "metadata": {},
   "source": [
    "## 1. 词嵌入简介 Introduction to Word Embeddings"
   ]
  },
  {
   "cell_type": "markdown",
   "metadata": {},
   "source": [
    "### 1.1 词汇表征 Word Representation\n",
    "\n",
    "此前对于词的表示：用词典，配合One-Hot编码。算法很难发现词与词之间的关系，也就无法利用同义词或同属性词的关系来做推断。任意两个One-Hot编码的向量的内积都是0。\n",
    "\n",
    "如果用特征来表示词呢？比如每个词都有诸如性别、年龄、食物等等[-1, 1]区间内的特征。这样如果有 $e$ 个特征，那么每个词都可以表示为 $e$ 维的向量。向量之间的相似度，可以给算法更多信息进行推断。\n",
    "\n",
    "而所谓词嵌入，就是用来寻找这样高维特征的办法。\n",
    "\n",
    "有了高维特征之后，人们也经常会将其降维到二维特征进行可视化。一个常见的算法是t-SNE。\n",
    "\n",
    "词嵌入是自然语言处理中一个非常重要的技术。"
   ]
  },
  {
   "cell_type": "code",
   "execution_count": null,
   "metadata": {
    "collapsed": true
   },
   "outputs": [],
   "source": []
  }
 ],
 "metadata": {
  "anaconda-cloud": {},
  "kernelspec": {
   "display_name": "Python [default]",
   "language": "python",
   "name": "python3"
  },
  "language_info": {
   "codemirror_mode": {
    "name": "ipython",
    "version": 3
   },
   "file_extension": ".py",
   "mimetype": "text/x-python",
   "name": "python",
   "nbconvert_exporter": "python",
   "pygments_lexer": "ipython3",
   "version": "3.5.2"
  }
 },
 "nbformat": 4,
 "nbformat_minor": 1
}
