{
 "cells": [
  {
   "cell_type": "markdown",
   "metadata": {},
   "source": [
    "# 深度学习简介"
   ]
  },
  {
   "cell_type": "markdown",
   "metadata": {},
   "source": [
    "## 1. 什么是神经网络？\n",
    "\n",
    "神经网络是受大脑工作方式的启发而来的一种强大的学习算法。\n",
    "\n",
    "### 例子一：单层神经网络\n",
    "\n",
    "给定房地产市场中房屋大小的数据，可以拟合一个函数用来预测房价。这是线性回归问题，因为房价作为房屋大小的函数，输出是连续的。\n",
    "\n",
    "同时，由于房价永远不可能为负，可以使用**线性整流函数（ReLU，Rectified Linear Unit）**的函数，其取值从零开始。\n",
    "\n",
    "这里输入是房屋大小（x)，输出是房价（y），“神经元”实现了线性整流函数（蓝色的线）。\n",
    "\n",
    "![single neural network](img/Housing Price Prediction 1.png)\n",
    "\n",
    "### 例子二：多层神经网络\n",
    "\n",
    "房价可能同时受到多个特征的影响，比如房屋大小、卧室数量、所在区域编码、所在区域收入水平。神经网络在这里为了预测房价，会自动地生成隐藏单元。我们只需要给定输入 $x$ 和输出 $y$\n",
    "\n",
    "![multiple neural network](img/Housing Price Prediction 2.png)"
   ]
  },
  {
   "cell_type": "markdown",
   "metadata": {},
   "source": [
    "## 2. 用于监督学习的神经网络\n",
    "\n",
    "在监督学习中，给定一组数据集以及正确的输出，我们认为输入和输出之间存在着某种关系。\n",
    "\n",
    "监督学习问题分为回归和分类两种。在回归问题中，需要预测连续型的输出值。而在分类问题中，需要预测离散型的输出值。\n",
    "\n",
    "下面有一些监督学习的例子：\n",
    "\n",
    "![examples of supervised learning](img/examples of supervised learning.png)\n",
    "\n",
    "神经网络有许多种不同的类型，比如**卷积神经网络 Convolution Neural Network(CNN)**常常用于图像类应用，而**循环神经网络 Recurrent Neural Network(RNN)**用于一维的序列数据，比如讲英语翻译为中文，或者将英语语音转为英文文本这样的中间临时组件。而对于自动驾驶来说，通常是混合的神经网络架构。\n",
    "\n",
    "结构化的数据通常有确定的含义，比如价格、年龄；而非结构化的数据指代的是像素、原始音频，文本等。\n",
    "\n",
    "![structured data and unstructured data](img/structured data and unstructured data.png)"
   ]
  },
  {
   "cell_type": "code",
   "execution_count": null,
   "metadata": {
    "collapsed": true
   },
   "outputs": [],
   "source": []
  }
 ],
 "metadata": {
  "kernelspec": {
   "display_name": "Python [conda root]",
   "language": "python",
   "name": "conda-root-py"
  },
  "language_info": {
   "codemirror_mode": {
    "name": "ipython",
    "version": 3
   },
   "file_extension": ".py",
   "mimetype": "text/x-python",
   "name": "python",
   "nbconvert_exporter": "python",
   "pygments_lexer": "ipython3",
   "version": "3.5.2"
  }
 },
 "nbformat": 4,
 "nbformat_minor": 1
}
