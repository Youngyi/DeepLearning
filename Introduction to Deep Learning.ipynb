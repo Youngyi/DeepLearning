{
 "cells": [
  {
   "cell_type": "markdown",
   "metadata": {},
   "source": [
    "# 深度学习简介"
   ]
  },
  {
   "cell_type": "markdown",
   "metadata": {},
   "source": [
    "## 什么是神经网络？\n",
    "\n",
    "神经网络是受大脑工作方式的启发而来的一种强大的学习算法。\n",
    "\n",
    "### 例子一：单层神经网络\n",
    "\n",
    "给定房地产市场中房屋大小的数据，可以拟合一个函数用来预测房价。这是线性回归问题，因为房价作为房屋大小的函数，输出是连续的。\n",
    "\n",
    "同时，由于房价永远不可能为负，可以使用**线性整流函数（ReLU，Rectified Linear Unit）**的函数，其取值从零开始。\n",
    "\n",
    "这里输入是房屋大小（x)，输出是房价（y），“神经元”实现了线性整流函数（蓝色的线）。\n",
    "\n",
    "![single neural network](img/Housing Price Prediction 1.png)\n",
    "\n",
    "### 例子二：多层神经网络\n",
    "\n",
    "房价可能同时受到多个特征的影响，比如房屋大小、卧室数量、所在区域编码、所在区域收入水平。神经网络在这里为了预测房价，会自动地生成隐藏单元。我们只需要给定输入 $x$ 和输出 $y$\n",
    "\n",
    "![multiple neural network](img/Housing Price Prediction 2.png)"
   ]
  },
  {
   "cell_type": "code",
   "execution_count": null,
   "metadata": {
    "collapsed": true
   },
   "outputs": [],
   "source": []
  }
 ],
 "metadata": {
  "kernelspec": {
   "display_name": "Python [conda root]",
   "language": "python",
   "name": "conda-root-py"
  },
  "language_info": {
   "codemirror_mode": {
    "name": "ipython",
    "version": 3
   },
   "file_extension": ".py",
   "mimetype": "text/x-python",
   "name": "python",
   "nbconvert_exporter": "python",
   "pygments_lexer": "ipython3",
   "version": "3.5.2"
  }
 },
 "nbformat": 4,
 "nbformat_minor": 1
}
