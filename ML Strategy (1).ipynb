{
 "cells": [
  {
   "cell_type": "markdown",
   "metadata": {},
   "source": [
    "# 机器学习策略（1）\n"
   ]
  },
  {
   "cell_type": "markdown",
   "metadata": {},
   "source": [
    "## 1. 为什么需要机器学习策略\n",
    "\n",
    "改进机器学习模型，可以做的事情有很多，效果各不相同。如何去分析机器学习问题，让模型更快地达到理想的状态，这是机器学习策略的意义。\n",
    "\n",
    "![Motivating example](img/Motivating example.png)"
   ]
  },
  {
   "cell_type": "markdown",
   "metadata": {},
   "source": [
    "## 2. 正交化\n",
    "\n",
    "正交化是一种系统设计的特性，它可以保证算法的一个指令或组件，不会对系统的其它组件产生副作用。这个特性使得验证算法的工具各自独立，从而减轻测试和开发周期。\n",
    "\n",
    "在设计监督学习系统时，下面是4个假设，我们需要这些假设都成立，并且相互正交：\n",
    "\n",
    "1. 成本函数在训练集上表现良好\n",
    "    - 如果不好，使用更大的神经网络，或者使用更好的优化算法\n",
    "2. 成本函数在开发集上表现良好\n",
    "    - 如果不好，使用正则化，或者使用更大的训练集\n",
    "3. 成本函数在测试集上表现良好\n",
    "    - 如果不好，使用更大的开发集\n",
    "4. 模型在现实世界里表现良好\n",
    "    - 如果不好，开发集可能设置错误，或者所选的成本函数不是衡量所给问题好坏的一个很好指标\n",
    "\n",
    "![Chain of assumptions in ML](img/Chain of assumptions in ML.png)"
   ]
  },
  {
   "cell_type": "code",
   "execution_count": null,
   "metadata": {
    "collapsed": true
   },
   "outputs": [],
   "source": []
  }
 ],
 "metadata": {
  "kernelspec": {
   "display_name": "Python [default]",
   "language": "python",
   "name": "python3"
  },
  "language_info": {
   "codemirror_mode": {
    "name": "ipython",
    "version": 3
   },
   "file_extension": ".py",
   "mimetype": "text/x-python",
   "name": "python",
   "nbconvert_exporter": "python",
   "pygments_lexer": "ipython3",
   "version": "3.5.2"
  }
 },
 "nbformat": 4,
 "nbformat_minor": 1
}
