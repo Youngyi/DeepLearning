{
 "cells": [
  {
   "cell_type": "markdown",
   "metadata": {},
   "source": [
    "# 卷积神经网络基础"
   ]
  },
  {
   "cell_type": "markdown",
   "metadata": {},
   "source": [
    "## 1. 计算机视觉\n",
    "\n",
    "随着深度学习的兴起，近些年来计算机视觉领域的发展十分迅猛。一方面，深度学习在计算机视觉的应用，使得很多几年前还无法解决的领域问题得以解决，比如人脸识别、自动驾驶；另一方面，在实践中计算机视觉社区对深度学习技巧的发现，也常常可以应用到其它领域里。\n",
    "\n",
    "计算机视觉领域的典型问题，包括图片分类、物体检测、神经风格迁移等。\n",
    "\n",
    "![Computer Vision Problems.png](img/Computer Vision Problems.png)\n",
    "\n",
    "由于图像数据的特点（高分辨率，特征多），非常容易多拟合，同时针对图像数据训练模型也需要极大的计算资源。而要使用高分辨率的图片训练模型，最好要实现卷积，卷积是卷积神经网络的基本组成单元。\n",
    "\n",
    "![Deep Learning on large images.png](img/Deep Learning on large images.png)"
   ]
  },
  {
   "cell_type": "markdown",
   "metadata": {
    "collapsed": true
   },
   "source": [
    "## 1.2 边缘检测实例\n",
    "\n",
    "在之前介绍的人类识别神经网络中，我们发现最终训练完成的神经网络会首先形成边缘检测的底层特征，在此基础上继续构建五官检测，进而再到人脸检测。可以说边缘检测是非常基础性的步骤。\n",
    "\n",
    "![Computer Vision Problem.png](img/Computer Vision Problem.png)\n",
    "\n",
    "卷积操作可以有效地进行边缘检测。\n",
    "\n",
    "![Vertical edge detection.png](img/Vertical edge detection.png)\n",
    "\n",
    "卷积操作会使图片的分辨率降低（从图上的6×6变成4×4），检测出来的边缘也会看起来比较粗。但当输入图片的分辨率非常高时，这点损耗可以忽略不计。\n",
    "\n",
    "![Vertical edge detection 2.png](img/Vertical edge detection 2.png)"
   ]
  },
  {
   "cell_type": "code",
   "execution_count": null,
   "metadata": {
    "collapsed": true
   },
   "outputs": [],
   "source": []
  }
 ],
 "metadata": {
  "anaconda-cloud": {},
  "kernelspec": {
   "display_name": "Python [default]",
   "language": "python",
   "name": "python3"
  },
  "language_info": {
   "codemirror_mode": {
    "name": "ipython",
    "version": 3
   },
   "file_extension": ".py",
   "mimetype": "text/x-python",
   "name": "python",
   "nbconvert_exporter": "python",
   "pygments_lexer": "ipython3",
   "version": "3.5.2"
  }
 },
 "nbformat": 4,
 "nbformat_minor": 1
}
